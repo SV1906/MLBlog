{
  "cells": [
    {
      "cell_type": "raw",
      "metadata": {},
      "source": [
        "---\n",
        "title: Welcome To My Blog\n",
        "author: Tristan O'Malley\n",
        "date: '2023-12-02'\n",
        "categories:\n",
        "  - news\n",
        "---"
      ],
      "id": "635dcf08"
    },
    {
      "cell_type": "markdown",
      "metadata": {},
      "source": [
        "This is the first post in a Quarto blog. Welcome!\n",
        "\n",
        "![](thumbnail.jpg)\n",
        "\n",
        "Since this post doesn't specify an explicit `image`, the first image in the post will be used in the listing page of posts.\n"
      ],
      "id": "fbd7c115"
    },
    {
      "cell_type": "code",
      "metadata": {},
      "source": [
        "print(\"hello\")\n"
      ],
      "id": "9f308092",
      "execution_count": null,
      "outputs": []
    }
  ],
  "metadata": {
    "kernelspec": {
      "name": "python3",
      "language": "python",
      "display_name": "Python 3 (ipykernel)"
    }
  },
  "nbformat": 4,
  "nbformat_minor": 5
}